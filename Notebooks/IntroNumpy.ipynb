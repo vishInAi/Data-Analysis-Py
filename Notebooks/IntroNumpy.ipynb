{
 "cells": [
  {
   "cell_type": "markdown",
   "metadata": {},
   "source": [
    "## NUMPY\n",
    "\n",
    "- Numeric Computing Library\n",
    "- Limited and for good reason\n",
    "- Powerful N-dimensional Library\n",
    "- Efficient Computing with C primitives\n",
    "- "
   ]
  }
 ],
 "metadata": {
  "language_info": {
   "name": "python"
  }
 },
 "nbformat": 4,
 "nbformat_minor": 2
}
