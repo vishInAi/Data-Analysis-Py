{
 "cells": [
  {
   "cell_type": "markdown",
   "metadata": {},
   "source": [
    "<a href=\"https://colab.research.google.com/github/vishInAi/Data-Analysis-Py/blob/main/Notebooks/IntroNumpy.ipynb\" target=\"_parent\"><img src=\"https://colab.research.google.com/assets/colab-badge.svg\" alt=\"Open In Colab\"/></a>"
   ]
  },
  {
   "cell_type": "markdown",
   "metadata": {},
   "source": [
    "## NUMPY\n",
    "\n",
    "- Library used to work with Arrays\n",
    "- functions for working domain of lin algebra, fouries transform, matrices.\n",
    "- Open Source\n",
    "- Widely used in Data Science and Scientific-Computing"
   ]
  },
  {
   "cell_type": "markdown",
   "metadata": {},
   "source": [
    "### Key Features"
   ]
  },
  {
   "cell_type": "markdown",
   "metadata": {},
   "source": [
    "#### 1. N-Dimensional Arrays:\n",
    "\n",
    "- Provides powerful n-dimensional array object, ndarray.\n",
    "- Arrays Faster, More Compact than Py lists.\n",
    "- Supports Math Operations."
   ]
  },
  {
   "cell_type": "code",
   "execution_count": 12,
   "metadata": {},
   "outputs": [],
   "source": [
    "import numpy as np"
   ]
  },
  {
   "cell_type": "code",
   "execution_count": 13,
   "metadata": {},
   "outputs": [
    {
     "name": "stdout",
     "output_type": "stream",
     "text": [
      "The 1D Array : [1 2 3 4]\n",
      "The 2D Array : \n",
      " [[1 2]\n",
      " [3 4]\n",
      " [5 6]]\n"
     ]
    }
   ],
   "source": [
    "# Creating a 1d array\n",
    "a1 = np.array([1,2,3,4])\n",
    "print(f\"The 1D Array : {a1}\")\n",
    "\n",
    "# Creating a 2d array\n",
    "a2 = np.array([[1,2],[3,4],[5,6]])\n",
    "print(f\"The 2D Array : \\n {a2}\")"
   ]
  },
  {
   "cell_type": "markdown",
   "metadata": {},
   "source": [
    "#### 2. Broadcasting:\n",
    "\n",
    "- Allows arithmetic operations on arrays of different shapes\n",
    "- Simplifies code and improves performance"
   ]
  },
  {
   "cell_type": "code",
   "execution_count": 14,
   "metadata": {},
   "outputs": [
    {
     "name": "stdout",
     "output_type": "stream",
     "text": [
      "The addition of two arrays of Different Dimentions 1d and 2d : [[5 6 7]\n",
      " [6 7 8]\n",
      " [7 8 9]]\n"
     ]
    }
   ],
   "source": [
    "a = np.array([1,2,3])\n",
    "b = np.array([[4],[5],[6]])\n",
    "c = a+b\n",
    "print(f\"The addition of two arrays of Different Dimentions 1d and 2d : {c}\")"
   ]
  },
  {
   "cell_type": "markdown",
   "metadata": {},
   "source": [
    "#### 3. Vectorized Operations:\n",
    "\n",
    "- Perform element-wise op without explicit loops.\n",
    "- Enhances Performance and Readability"
   ]
  },
  {
   "cell_type": "code",
   "execution_count": 15,
   "metadata": {},
   "outputs": [
    {
     "name": "stdout",
     "output_type": "stream",
     "text": [
      "Product of two 1D arrays containing 3D Vectors : \n",
      " [ 4 10 18]\n"
     ]
    }
   ],
   "source": [
    "a = np.array([1,2,3])\n",
    "b = np.array([4,5,6])\n",
    "c = a*b\n",
    "print(f\"Product of two 1D arrays containing 3D Vectors : \\n {c}\")"
   ]
  },
  {
   "cell_type": "markdown",
   "metadata": {},
   "source": [
    "#### 4. Indexing and Slicing:\n",
    "\n",
    "- Access and modify array elements using indices and slices.\n",
    "- Supports advanced indexing techniques."
   ]
  },
  {
   "cell_type": "code",
   "execution_count": 16,
   "metadata": {},
   "outputs": [
    {
     "name": "stdout",
     "output_type": "stream",
     "text": [
      "lets slice the array from the 2nd element upto 5th and print [20 30 40]\n",
      "Lets look at the modified array [ 10  20 100  40  50]\n"
     ]
    }
   ],
   "source": [
    "arr = np.array([10,20,30,40,50])\n",
    "print(f\"lets slice the array from the 2nd element upto 5th and print {arr[1:4]}\") # Slicing\n",
    "arr[2] = 100 # Modifying an element\n",
    "print(f\"Lets look at the modified array {arr}\")"
   ]
  },
  {
   "cell_type": "markdown",
   "metadata": {},
   "source": [
    "#### 5. Linear Algebra:\n",
    "\n",
    "- Functions for matrix operations, eigenvalues, and more.\n",
    "- Useful for scientific and engineering applications."
   ]
  },
  {
   "cell_type": "code",
   "execution_count": 17,
   "metadata": {},
   "outputs": [
    {
     "name": "stdout",
     "output_type": "stream",
     "text": [
      "The array matrix : -2.0000000000000004\n"
     ]
    }
   ],
   "source": [
    "matrix = np.array([[1,2],[3,4]])\n",
    "determinant = np.linalg.det(matrix)\n",
    "print(f\"The array matrix : {determinant}\")"
   ]
  },
  {
   "cell_type": "markdown",
   "metadata": {},
   "source": [
    "#### Advantages of NumPy\n",
    "\n",
    "##### 1. Performance:\n",
    "\n",
    "- Numpy arays are most efficient than Python lists in terms of speed and memory usage.\n",
    "- Operations on arrays are implemented in C, making them very fast.\n",
    "\n",
    "##### 2. Convenience:\n",
    "\n",
    "- Provides wide range of Math functions.\n",
    "- Simplifies complex mathematical computations.\n",
    "\n",
    "##### 3. Interoperability:\n",
    "\n",
    "- Compatible with other lib like SciPy, Pandas, Matplotlib.\n",
    "- Facilitates data exchange between different libraries.\n",
    "\n",
    "#### Disadvantages of NumPy\n",
    "\n",
    "##### 1. Learning Curve:\n",
    "\n",
    "- Requires some time to learn and understand.\n",
    "- Syntax and concepts might be challenged for beginners.\n",
    "\n",
    "##### 2. Memory Consumption:\n",
    "\n",
    "- Large arrays can consume significant memory.\n",
    "- Not suitable for small-scale applications where Python lists suffice\n",
    "\n",
    "#### Uses of NumPy\n",
    "\n",
    "##### 1. Data Analysis:\n",
    "\n",
    "- Efficiently handle and process large datasets.\n",
    "- Commonly used in data science and Machine Learning.\n",
    "\n",
    "##### 2. Scientific Computing:\n",
    "\n",
    "- Perform complex mathematical and Statistical Operations.\n",
    "- Widely used in Research and Engineering.\n",
    "\n",
    "#### Summary\n",
    "\n",
    "NumPy is a versatile and powefil library that enhances Python's capabilities for Numerical Computations.\n",
    "Efficient Array Operations, Broadcasting and Math functions make it a go to tool for data scientists and engineers."
   ]
  }
 ],
 "metadata": {
  "kernelspec": {
   "display_name": "Python 3",
   "language": "python",
   "name": "python3"
  },
  "language_info": {
   "codemirror_mode": {
    "name": "ipython",
    "version": 3
   },
   "file_extension": ".py",
   "mimetype": "text/x-python",
   "name": "python",
   "nbconvert_exporter": "python",
   "pygments_lexer": "ipython3",
   "version": "3.12.2"
  }
 },
 "nbformat": 4,
 "nbformat_minor": 2
}
